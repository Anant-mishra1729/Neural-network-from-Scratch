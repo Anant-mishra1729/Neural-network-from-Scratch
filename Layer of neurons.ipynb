{
 "cells": [
  {
   "cell_type": "code",
   "execution_count": 2,
   "id": "dce52453-5ac5-4d94-9c6e-43989d62402b",
   "metadata": {},
   "outputs": [],
   "source": [
    "import numpy as np\n",
    "import matplotlib.pyplot as plt"
   ]
  },
  {
   "cell_type": "markdown",
   "id": "6b9528dd-ed92-4cff-a8fe-fee02cc210b0",
   "metadata": {},
   "source": [
    "### What is layer of neurons?\n",
    "Nothing, just a group of single neurons"
   ]
  },
  {
   "cell_type": "markdown",
   "id": "769ac433-608e-4937-a443-1e0d5395cbc3",
   "metadata": {},
   "source": [
    "## Note\n",
    "* Every neuron in a layer takes same inputs.\n",
    "* Each neuron has its own set of weights for inputs.\n",
    "\n",
    "  Example:\n",
    "    * **Neuron N1** has weight 1.2 associated with input 1\n",
    "    * **Neuron N2** can have weight -0.4 associated with input 1\n",
    "\n",
    "* Each neuron has its own bias."
   ]
  },
  {
   "cell_type": "code",
   "execution_count": 4,
   "id": "dd61a29f-8811-4d6e-92bf-c3ed12847604",
   "metadata": {},
   "outputs": [
    {
     "data": {
      "text/plain": [
       "array([1, 2, 3, 4])"
      ]
     },
     "execution_count": 4,
     "metadata": {},
     "output_type": "execute_result"
    }
   ],
   "source": [
    "# Inputs\n",
    "inputs = np.arange(1,5)\n",
    "inputs"
   ]
  },
  {
   "cell_type": "markdown",
   "id": "b2d3cf96-2ec5-476a-a80d-ebb8972cbaee",
   "metadata": {},
   "source": [
    "Let's say we have **5 neurons**"
   ]
  },
  {
   "cell_type": "code",
   "execution_count": 12,
   "id": "336e4db6-6344-495b-a2a9-1cb9c9c79d5b",
   "metadata": {},
   "outputs": [
    {
     "data": {
      "text/plain": [
       "array([[-0.10477064, -0.55485   , -0.61945263,  0.14975784],\n",
       "       [ 0.38427067, -0.05743179, -0.90747222, -0.38065549],\n",
       "       [ 0.75840105,  0.99158276, -0.72577153, -0.40800767],\n",
       "       [-0.35518002,  0.7190426 ,  0.25868816, -0.03027441],\n",
       "       [ 0.54145836, -0.99925238, -0.99589685,  0.20253194]])"
      ]
     },
     "execution_count": 12,
     "metadata": {},
     "output_type": "execute_result"
    }
   ],
   "source": [
    "# Weights associated with 5 neurons\n",
    "# For 4 inputs and 5 neurons we need 20 weights, 4 weights for each neuron\n",
    "weights = np.random.uniform(-1,1,20).reshape(5,4)\n",
    "weights"
   ]
  },
  {
   "cell_type": "code",
   "execution_count": 29,
   "id": "a47d5759-57f5-4887-a665-316398f55a1f",
   "metadata": {},
   "outputs": [
    {
     "data": {
      "text/plain": [
       "array([2, 4, 5, 5, 1])"
      ]
     },
     "execution_count": 29,
     "metadata": {},
     "output_type": "execute_result"
    }
   ],
   "source": [
    "# Bias\n",
    "bias = np.random.randint(1, 6, 5)\n",
    "bias"
   ]
  },
  {
   "cell_type": "markdown",
   "id": "12ccaddc-d942-4224-bfdb-37250925f0bc",
   "metadata": {},
   "source": [
    "### How a layer works?\n",
    "\n",
    "#### Output of single neuron\n",
    "$$\n",
    "\\text{Output of single neuron} = \\sigma(\\sum (inputs * weights) + bias)\n",
    "$$\n",
    "\n",
    "#### Layer output is just sum of outputs of neurons\n",
    "$$\n",
    "\\text{Layer output}= \\sum_{i = 1}^N \\text{Outputs of N neurons}\n",
    "$$\n",
    "\n"
   ]
  },
  {
   "cell_type": "code",
   "execution_count": 31,
   "id": "3dd21f2f-d7b0-451c-97cb-b0c7025126e4",
   "metadata": {},
   "outputs": [
    {
     "data": {
      "text/plain": [
       "(-0.473797172618565,\n",
       " 0.024368460258476166,\n",
       " 3.9322213024441326,\n",
       " 6.7378720370109715,\n",
       " -2.6346092038000046)"
      ]
     },
     "execution_count": 31,
     "metadata": {},
     "output_type": "execute_result"
    }
   ],
   "source": [
    "# Output of each neuron without using activation function for the time being\n",
    "o1 = np.sum(inputs * weights[0]) + bias [0]\n",
    "o2 = np.sum(inputs * weights[1]) + bias [1]\n",
    "o3 = np.sum(inputs * weights[2]) + bias [2]\n",
    "o4 = np.sum(inputs * weights[3]) + bias [3]\n",
    "o5 = np.sum(inputs * weights[4]) + bias [4]\n",
    "o1, o2, o3, o4, o5"
   ]
  },
  {
   "cell_type": "code",
   "execution_count": 38,
   "id": "98cdd2db-8fd4-4775-93e6-fe5b67ef5fda",
   "metadata": {},
   "outputs": [
    {
     "data": {
      "text/plain": [
       "7.586055423295011"
      ]
     },
     "execution_count": 38,
     "metadata": {},
     "output_type": "execute_result"
    }
   ],
   "source": [
    "# Output of layer\n",
    "layer_output = np.sum([o1,o2,o3,o4,o5])\n",
    "layer_output"
   ]
  },
  {
   "cell_type": "markdown",
   "id": "6e9f3e7f-b435-43aa-b480-c2472b391932",
   "metadata": {},
   "source": [
    "### Calculating using Matrix multiplication\n",
    "$$\n",
    "\\text{Outputs of neurons} = \\sigma(inputs~*~weights^T)\n",
    "$$\n",
    "$$\n",
    "\\text{Layer output}= \\sum_{i = 1}^N \\text{Outputs of neurons}\n",
    "$$"
   ]
  },
  {
   "cell_type": "code",
   "execution_count": 39,
   "id": "cbd3265e-c54f-488d-b0d2-4aa5be91fd05",
   "metadata": {},
   "outputs": [
    {
     "name": "stdout",
     "output_type": "stream",
     "text": [
      "Outputs of neurons\n",
      " [-0.47379717  0.02436846  3.9322213   6.73787204 -2.6346092 ]\n",
      "Output of layer\n",
      " 7.58605542329501\n"
     ]
    }
   ],
   "source": [
    "neuron_outputs = np.dot(inputs, weights.T) + bias\n",
    "layer_output = neuron_outputs.sum()\n",
    "print(\"Outputs of neurons\\n\",neuron_outputs)\n",
    "print(\"Output of layer\\n\", layer_output)"
   ]
  },
  {
   "cell_type": "markdown",
   "id": "a5bb705b-af3b-4f20-bd21-45b6725d414f",
   "metadata": {
    "jp-MarkdownHeadingCollapsed": true
   },
   "source": [
    "### Summary\n",
    "$$\n",
    "\\text{Output of neuron} = \\sigma(inputs~*~weights^T + bias)\n",
    "$$\n",
    "\n",
    "$$\n",
    "\\text{Layer output} = \\sum{\\sigma(inputs~*~weights^T + bias)}\n",
    "$$\n",
    "\n",
    "#### Code\n",
    "```python\n",
    "neuron_outputs = np.dot(inputs, weights.T) + bias\n",
    "layer_output = np.sum(np.dot(inputs, weights.T) + bias)\n",
    "```"
   ]
  },
  {
   "cell_type": "markdown",
   "id": "72b1c829-6562-4fa4-8d91-b265facc1ceb",
   "metadata": {},
   "source": [
    "### We just created a Fully connected network &#x1F600;"
   ]
  }
 ],
 "metadata": {
  "kernelspec": {
   "display_name": "Python 3 (ipykernel)",
   "language": "python",
   "name": "python3"
  },
  "language_info": {
   "codemirror_mode": {
    "name": "ipython",
    "version": 3
   },
   "file_extension": ".py",
   "mimetype": "text/x-python",
   "name": "python",
   "nbconvert_exporter": "python",
   "pygments_lexer": "ipython3",
   "version": "3.9.18"
  }
 },
 "nbformat": 4,
 "nbformat_minor": 5
}
