{
 "cells": [
  {
   "attachments": {
    "1bb3678c-1316-4d3e-9880-f4dbaf4568eb.png": {
     "image/png": "[encoded data removed]"
    }
   },
   "cell_type": "markdown",
   "id": "24c9a5b6-9e90-42f1-ae58-933fd957b7fd",
   "metadata": {},
   "source": [
    "# Single neuron\n",
    "Basic computing unit of a neural network\n",
    "\n",
    "![image.png](attachment:1bb3678c-1316-4d3e-9880-f4dbaf4568eb.png)\n",
    "\n",
    "#### Some numpy functions to remember\n",
    "**np.arange(a,b):** Array of a to b-1\n",
    "\n",
    "**np.random.uniform(a, b, N):** N floats between a and b\n",
    "\n",
    "**np.random.randint(a, b, N):** N integers between a and b\n",
    "\n",
    "### Defining parameters of a single neuron"
   ]
  },
  {
   "cell_type": "code",
   "execution_count": 1,
   "id": "15bb8957-90d7-4bdf-908b-c531d0ea9f66",
   "metadata": {},
   "outputs": [],
   "source": [
    "import matplotlib.pyplot as plt\n",
    "import numpy as np"
   ]
  },
  {
   "cell_type": "code",
   "execution_count": 31,
   "id": "9d235adc-9f87-40f3-ba31-95160f8d566a",
   "metadata": {},
   "outputs": [
    {
     "data": {
      "text/plain": [
       "array([1, 2, 3])"
      ]
     },
     "execution_count": 31,
     "metadata": {},
     "output_type": "execute_result"
    }
   ],
   "source": [
    "# Inputs\n",
    "inputs = np.arange(1,4)\n",
    "inputs"
   ]
  },
  {
   "cell_type": "code",
   "execution_count": 32,
   "id": "434c5c68-37b5-400c-8dca-3d6bf94593fa",
   "metadata": {},
   "outputs": [
    {
     "data": {
      "text/plain": [
       "array([ 0.41706384, -0.31043712, -0.86523132])"
      ]
     },
     "execution_count": 32,
     "metadata": {},
     "output_type": "execute_result"
    }
   ],
   "source": [
    "# Weights associated with inputs in a range of -1 to 1\n",
    "weights = np.random.uniform(-1,1, 3)\n",
    "weights"
   ]
  },
  {
   "cell_type": "code",
   "execution_count": 33,
   "id": "f1b8baf9-74eb-4b3b-9fa5-15211cf6eaa0",
   "metadata": {},
   "outputs": [
    {
     "data": {
      "text/plain": [
       "4"
      ]
     },
     "execution_count": 33,
     "metadata": {},
     "output_type": "execute_result"
    }
   ],
   "source": [
    "# Bias any random integer \n",
    "bias = np.random.randint(5)\n",
    "bias"
   ]
  },
  {
   "cell_type": "markdown",
   "id": "1299c6df-4173-48d9-aad5-21f67ab7829b",
   "metadata": {},
   "source": [
    "### How a neuron works\n",
    "$$\n",
    "\\text{Output of neuron}= \\sigma(\\sum (inputs * weights) + bias)\n",
    "$$\n",
    "It multiplies the inputs with corresponding weights, and adds them.\n",
    "Then an activation function ($\\sigma$) is applied on it\n",
    "\n",
    "***For the time being do not focus on activation function, I'll discuss it later***"
   ]
  },
  {
   "cell_type": "code",
   "execution_count": 34,
   "id": "e1be1d22-48e0-4d38-bdce-16a876677cf9",
   "metadata": {},
   "outputs": [
    {
     "data": {
      "text/plain": [
       "1.2004956366746136"
      ]
     },
     "execution_count": 34,
     "metadata": {},
     "output_type": "execute_result"
    }
   ],
   "source": [
    "# Output without applying activation function\n",
    "output = np.sum(inputs * weights) + bias\n",
    "output"
   ]
  },
  {
   "cell_type": "markdown",
   "id": "76cf2239-99b1-4cfb-9462-9059170c6851",
   "metadata": {},
   "source": [
    "### Using Matrix multiplication\n",
    "$$\n",
    "\\text{Output of neuron} = \\sigma(inputs~*~weights^T + bias)\n",
    "$$\n"
   ]
  },
  {
   "cell_type": "code",
   "execution_count": 37,
   "id": "524d1aa3-d0d5-49a9-89a1-cb9cd7a2c49c",
   "metadata": {},
   "outputs": [
    {
     "data": {
      "text/plain": [
       "1.2004956366746136"
      ]
     },
     "execution_count": 37,
     "metadata": {},
     "output_type": "execute_result"
    }
   ],
   "source": [
    "output = np.dot(inputs, weights.T) + bias\n",
    "output"
   ]
  },
  {
   "cell_type": "markdown",
   "id": "eb60519d-7030-4033-be74-8967f7d7873d",
   "metadata": {},
   "source": [
    "### Summary\n",
    "Formula for calculating output of single neuron,\n",
    "$$\n",
    "\\text{Output of neuron} = \\sigma(inputs~*~weights^T + bias)\n",
    "$$\n",
    "\n",
    "#### Code\n",
    "```python\n",
    "output = activation_function(np.dot(inputs, weights.T) + bias)\n",
    "```"
   ]
  }
 ],
 "metadata": {
  "kernelspec": {
   "display_name": "Python 3 (ipykernel)",
   "language": "python",
   "name": "python3"
  },
  "language_info": {
   "codemirror_mode": {
    "name": "ipython",
    "version": 3
   },
   "file_extension": ".py",
   "mimetype": "text/x-python",
   "name": "python",
   "nbconvert_exporter": "python",
   "pygments_lexer": "ipython3",
   "version": "3.9.18"
  }
 },
 "nbformat": 4,
 "nbformat_minor": 5
}
